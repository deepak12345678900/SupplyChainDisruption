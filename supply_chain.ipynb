{
 "cells": [
  {
<<<<<<< HEAD
   "cell_type": "markdown",
   "metadata": {},
   "source": [
    "DATA COLLECTION"
   ]
  },
  {
   "cell_type": "code",
   "execution_count": 87,
   "metadata": {},
   "outputs": [],
   "source": [
    "keywords = [\n",
    "    \"supply chain management disruption\",\n",
    "    \"logistics challenges\",\n",
    "    \"global supply chain issues\",\n",
    "    \"supply chain delays\"\n",
    "]\n"
   ]
  },
  {
   "cell_type": "code",
   "execution_count": 88,
   "metadata": {},
   "outputs": [
    {
     "name": "stdout",
     "output_type": "stream",
     "text": [
      "Collected 314 unique articles.\n"
     ]
    }
   ],
   "source": [
    "import requests\n",
    "import pandas as pd\n",
    "\n",
    "api_key = \"a79d8d0ad14f45eab7e8a9f7d68ce0af\"\n",
    "url = \"https://newsapi.org/v2/everything\"\n",
    "start_date = \"2024-12-01\"\n",
    "end_date = \"2024-12-10\"\n",
    "articles_list = []\n",
    "\n",
    "for keyword in keywords:\n",
    "    params = {\n",
    "        \"q\": keyword,\n",
    "        \"from\": start_date,\n",
    "        \"to\": end_date,\n",
    "        \"sortBy\": \"relevancy\",\n",
    "        \"pageSize\": 100,\n",
    "        \"language\": \"en\",\n",
    "        \"apiKey\": api_key\n",
    "    }\n",
    "    response = requests.get(url, params=params)\n",
    "    if response.status_code == 200:\n",
    "        data = response.json()\n",
    "        articles = data.get(\"articles\", [])\n",
    "        articles_list.extend(articles)\n",
    "    else:\n",
    "        print(f\"Error fetching data for {keyword}\")\n",
    "\n",
    "# Create a DataFrame\n",
    "df = pd.DataFrame.from_records(articles_list, columns=[\"title\", \"description\", \"publishedAt\"])\n",
    "df.drop_duplicates(subset=[\"title\"], inplace=True)\n",
    "df.to_csv(\"expanded_news_articles.csv\", index=False)\n",
    "print(f\"Collected {len(df)} unique articles.\")\n"
=======
   "cell_type": "code",
   "execution_count": 1,
   "metadata": {},
   "outputs": [],
   "source": [
    "import requests\n",
    "import pandas as pd\n",
    "api_key = \"a79d8d0ad14f45eab7e8a9f7d68ce0af\"\n",
    "\n",
    "url = \"https://newsapi.org/v2/everything\"\n",
    "params = {\n",
    "    \"q\": \"supply chain disruption\",  \n",
    "    \"from\": \"2024-12-01\",           \n",
    "    \"to\": \"2024-12-10\",            \n",
    "    \"sortBy\": \"relevancy\",\n",
    "    \"language\": \"en\",               \n",
    "    \"apiKey\": api_key            \n",
    "}\n",
    "\n",
    "response = requests.get(url, params=params)\n",
    "df = pd.DataFrame()\n",
    "title = []\n",
    "description = []\n",
    "content = []\n",
    "\n",
    "if response.status_code == 200:\n",
    "    data = response.json()\n",
    "    articles = data.get(\"articles\", [])\n",
    "    for article in articles:\n",
    "        title.append(article[\"title\"])\n",
    "        description.append(article[\"description\"])\n",
    "        content.append(article[\"content\"])\n",
    "    df[\"title\"] = title\n",
    "    df[\"description\"] = description\n",
    "    df[\"content\"] = content\n",
    "       \n",
    "else:\n",
    "    print(\"Error:\", response.status_code, response.json())\n"
>>>>>>> a443ddd10a0aa0baadda8ef6b098aec886823041
   ]
  },
  {
   "cell_type": "code",
<<<<<<< HEAD
   "execution_count": 89,
=======
   "execution_count": 2,
>>>>>>> a443ddd10a0aa0baadda8ef6b098aec886823041
   "metadata": {},
   "outputs": [
    {
     "data": {
      "text/html": [
       "<div>\n",
       "<style scoped>\n",
       "    .dataframe tbody tr th:only-of-type {\n",
       "        vertical-align: middle;\n",
       "    }\n",
       "\n",
       "    .dataframe tbody tr th {\n",
       "        vertical-align: top;\n",
       "    }\n",
       "\n",
       "    .dataframe thead th {\n",
       "        text-align: right;\n",
       "    }\n",
       "</style>\n",
       "<table border=\"1\" class=\"dataframe\">\n",
       "  <thead>\n",
       "    <tr style=\"text-align: right;\">\n",
       "      <th></th>\n",
       "      <th>title</th>\n",
       "      <th>description</th>\n",
<<<<<<< HEAD
       "      <th>publishedAt</th>\n",
=======
       "      <th>content</th>\n",
>>>>>>> a443ddd10a0aa0baadda8ef6b098aec886823041
       "    </tr>\n",
       "  </thead>\n",
       "  <tbody>\n",
       "    <tr>\n",
       "      <th>0</th>\n",
<<<<<<< HEAD
       "      <td>Proven ways to boost hotel food and drink profits</td>\n",
       "      <td>By focusing on cost optimisation, reducing was...</td>\n",
       "      <td>2024-12-06T07:14:58Z</td>\n",
       "    </tr>\n",
       "    <tr>\n",
       "      <th>1</th>\n",
       "      <td>How To Prep Cryptographic Assets For The Emerg...</td>\n",
       "      <td>Quantum computing can render traditional encry...</td>\n",
       "      <td>2024-12-10T16:15:34Z</td>\n",
       "    </tr>\n",
       "    <tr>\n",
       "      <th>2</th>\n",
       "      <td>Travel Leaders on Trump 2.0… in Three Words or...</td>\n",
       "      <td>When the cameras are off and PR teams aren’t h...</td>\n",
       "      <td>2024-12-10T17:01:38Z</td>\n",
       "    </tr>\n",
       "    <tr>\n",
       "      <th>3</th>\n",
       "      <td>Sustainability To Resilience: Adapt ESG Strate...</td>\n",
       "      <td>Is ESG officially dead or merely in transition...</td>\n",
       "      <td>2024-12-09T19:12:52Z</td>\n",
       "    </tr>\n",
       "    <tr>\n",
       "      <th>4</th>\n",
       "      <td>How AI Is Reshaping The Future Of Work Across ...</td>\n",
       "      <td>Artificial intelligence (AI) is no longer a vi...</td>\n",
       "      <td>2024-12-03T23:21:38Z</td>\n",
       "    </tr>\n",
       "  </tbody>\n",
       "</table>\n",
       "</div>"
      ],
      "text/plain": [
       "                                               title  \\\n",
       "0  Proven ways to boost hotel food and drink profits   \n",
       "1  How To Prep Cryptographic Assets For The Emerg...   \n",
       "2  Travel Leaders on Trump 2.0… in Three Words or...   \n",
       "3  Sustainability To Resilience: Adapt ESG Strate...   \n",
       "4  How AI Is Reshaping The Future Of Work Across ...   \n",
       "\n",
       "                                         description           publishedAt  \n",
       "0  By focusing on cost optimisation, reducing was...  2024-12-06T07:14:58Z  \n",
       "1  Quantum computing can render traditional encry...  2024-12-10T16:15:34Z  \n",
       "2  When the cameras are off and PR teams aren’t h...  2024-12-10T17:01:38Z  \n",
       "3  Is ESG officially dead or merely in transition...  2024-12-09T19:12:52Z  \n",
       "4  Artificial intelligence (AI) is no longer a vi...  2024-12-03T23:21:38Z  "
      ]
     },
     "execution_count": 89,
     "metadata": {},
     "output_type": "execute_result"
    }
   ],
   "source": [
    "df.head()"
   ]
  },
  {
   "cell_type": "markdown",
   "metadata": {},
   "source": [
    "DATA PREPROCESSING "
   ]
  },
  {
   "cell_type": "code",
   "execution_count": 91,
   "metadata": {},
   "outputs": [
    {
     "name": "stdout",
     "output_type": "stream",
     "text": [
      "Data cleaned and saved.\n"
     ]
    }
   ],
   "source": [
    "import re\n",
    "\n",
    "def clean_text(text):\n",
    "    if text:\n",
    "        text = re.sub(r\"[\\r\\n\\t]+\", \" \", text)\n",
    "        text = text.lower()\n",
    "        text = re.sub(r\"[^\\w\\s]\", \"\", text) \n",
    "        text = re.sub(r\"\\s+\", \" \", text).strip()\n",
    " \n",
    "        return text.strip()\n",
    "    return \"\"\n",
    "\n",
    "df[\"title\"] = df[\"title\"].apply(clean_text)\n",
    "df[\"description\"] = df[\"description\"].apply(clean_text)\n",
    "# df[\"content\"] = df[\"content\"].apply(clean_text)\n",
    "\n",
    "df.to_csv(\"cleaned_news_articles.csv\", index=False)\n",
    "print(\"Data cleaned and saved.\")\n"
   ]
  },
  {
   "cell_type": "code",
   "execution_count": 92,
   "metadata": {},
   "outputs": [
    {
     "data": {
      "text/html": [
       "<div>\n",
       "<style scoped>\n",
       "    .dataframe tbody tr th:only-of-type {\n",
       "        vertical-align: middle;\n",
       "    }\n",
       "\n",
       "    .dataframe tbody tr th {\n",
       "        vertical-align: top;\n",
       "    }\n",
       "\n",
       "    .dataframe thead th {\n",
       "        text-align: right;\n",
       "    }\n",
       "</style>\n",
       "<table border=\"1\" class=\"dataframe\">\n",
       "  <thead>\n",
       "    <tr style=\"text-align: right;\">\n",
       "      <th></th>\n",
       "      <th>title</th>\n",
       "      <th>description</th>\n",
       "      <th>publishedAt</th>\n",
       "    </tr>\n",
       "  </thead>\n",
       "  <tbody>\n",
       "    <tr>\n",
       "      <th>0</th>\n",
       "      <td>proven ways to boost hotel food and drink profits</td>\n",
       "      <td>by focusing on cost optimisation reducing wast...</td>\n",
       "      <td>2024-12-06T07:14:58Z</td>\n",
       "    </tr>\n",
       "    <tr>\n",
       "      <th>1</th>\n",
       "      <td>how to prep cryptographic assets for the emerg...</td>\n",
       "      <td>quantum computing can render traditional encry...</td>\n",
       "      <td>2024-12-10T16:15:34Z</td>\n",
       "    </tr>\n",
       "    <tr>\n",
       "      <th>2</th>\n",
       "      <td>travel leaders on trump 20 in three words or less</td>\n",
       "      <td>when the cameras are off and pr teams arent ho...</td>\n",
       "      <td>2024-12-10T17:01:38Z</td>\n",
       "    </tr>\n",
       "    <tr>\n",
       "      <th>3</th>\n",
       "      <td>sustainability to resilience adapt esg strateg...</td>\n",
       "      <td>is esg officially dead or merely in transition...</td>\n",
       "      <td>2024-12-09T19:12:52Z</td>\n",
       "    </tr>\n",
       "    <tr>\n",
       "      <th>4</th>\n",
       "      <td>how ai is reshaping the future of work across ...</td>\n",
       "      <td>artificial intelligence ai is no longer a visi...</td>\n",
       "      <td>2024-12-03T23:21:38Z</td>\n",
       "    </tr>\n",
       "  </tbody>\n",
       "</table>\n",
       "</div>"
      ],
      "text/plain": [
       "                                               title  \\\n",
       "0  proven ways to boost hotel food and drink profits   \n",
       "1  how to prep cryptographic assets for the emerg...   \n",
       "2  travel leaders on trump 20 in three words or less   \n",
       "3  sustainability to resilience adapt esg strateg...   \n",
       "4  how ai is reshaping the future of work across ...   \n",
       "\n",
       "                                         description           publishedAt  \n",
       "0  by focusing on cost optimisation reducing wast...  2024-12-06T07:14:58Z  \n",
       "1  quantum computing can render traditional encry...  2024-12-10T16:15:34Z  \n",
       "2  when the cameras are off and pr teams arent ho...  2024-12-10T17:01:38Z  \n",
       "3  is esg officially dead or merely in transition...  2024-12-09T19:12:52Z  \n",
       "4  artificial intelligence ai is no longer a visi...  2024-12-03T23:21:38Z  "
      ]
     },
     "execution_count": 92,
     "metadata": {},
     "output_type": "execute_result"
    }
   ],
   "source": [
    "df.head()"
   ]
  },
  {
   "cell_type": "code",
   "execution_count": 93,
   "metadata": {},
   "outputs": [
    {
     "name": "stdout",
     "output_type": "stream",
     "text": [
      "Requirement already satisfied: textblob in c:\\users\\deepak santhosh\\anaconda3\\envs\\newenv\\lib\\site-packages (0.18.0.post0)\n",
      "Requirement already satisfied: nltk>=3.8 in c:\\users\\deepak santhosh\\anaconda3\\envs\\newenv\\lib\\site-packages (from textblob) (3.9.1)\n",
      "Requirement already satisfied: click in c:\\users\\deepak santhosh\\anaconda3\\envs\\newenv\\lib\\site-packages (from nltk>=3.8->textblob) (8.1.7)\n",
      "Requirement already satisfied: joblib in c:\\users\\deepak santhosh\\anaconda3\\envs\\newenv\\lib\\site-packages (from nltk>=3.8->textblob) (1.4.2)\n",
      "Requirement already satisfied: regex>=2021.8.3 in c:\\users\\deepak santhosh\\anaconda3\\envs\\newenv\\lib\\site-packages (from nltk>=3.8->textblob) (2024.11.6)\n",
      "Requirement already satisfied: tqdm in c:\\users\\deepak santhosh\\anaconda3\\envs\\newenv\\lib\\site-packages (from nltk>=3.8->textblob) (4.66.5)\n",
      "Requirement already satisfied: colorama in c:\\users\\deepak santhosh\\anaconda3\\envs\\newenv\\lib\\site-packages (from click->nltk>=3.8->textblob) (0.4.4)\n"
     ]
    },
    {
     "name": "stderr",
     "output_type": "stream",
     "text": [
      "\n",
      "[notice] A new release of pip is available: 24.1 -> 24.3.1\n",
      "[notice] To update, run: python.exe -m pip install --upgrade pip\n"
     ]
    }
   ],
   "source": [
    "! pip install -U textblob"
   ]
  },
  {
   "cell_type": "code",
   "execution_count": 95,
   "metadata": {},
   "outputs": [],
   "source": [
    "def analyze_sentiment(text):\n",
    "    if text:  # Check if text is not empty or NaN\n",
    "        blob = TextBlob(text)\n",
    "        polarity = blob.sentiment.polarity  # Sentiment polarity (-1 to 1)\n",
    "        subjectivity = blob.sentiment.subjectivity  # Subjectivity (0 to 1)\n",
    "        \n",
    "        # Classify sentiment based on polarity\n",
    "        if polarity > 0:\n",
    "            sentiment = \"Positive\"\n",
    "        elif polarity < 0:\n",
    "            sentiment = \"Negative\"\n",
    "        else:\n",
    "            sentiment = \"Neutral\"\n",
    "        \n",
    "        return sentiment,polarity,subjectivity\n",
    "    return \"Neutral\",0,0 # Default values for missing text\n",
    "\n",
    "# Apply the function to the content column\n",
    "df[[\"sentiment\",\"polarity\",\"subjectivity\"]] = df[\"description\"].apply(\n",
    "    lambda x: pd.Series(analyze_sentiment(x))\n",
    ")\n"
   ]
  },
  {
   "cell_type": "code",
   "execution_count": 96,
   "metadata": {},
   "outputs": [
    {
     "data": {
      "text/plain": [
       "sentiment\n",
       "Positive    157\n",
       "Neutral     100\n",
       "Negative     57\n",
       "Name: count, dtype: int64"
      ]
     },
     "execution_count": 96,
     "metadata": {},
     "output_type": "execute_result"
    }
   ],
   "source": [
    "sentiment_counts = df['sentiment'].value_counts()\n",
    "sentiment_counts\n"
   ]
  },
  {
   "cell_type": "code",
   "execution_count": 97,
   "metadata": {},
   "outputs": [
    {
     "data": {
      "image/png": "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",
      "text/plain": [
       "<Figure size 640x480 with 1 Axes>"
      ]
     },
     "metadata": {},
     "output_type": "display_data"
    }
   ],
   "source": [
    "import matplotlib.pyplot as plt\n",
    "\n",
    "sentiment_counts.plot(kind='bar', color=['green', 'red', 'blue'])\n",
    "plt.title(\"Sentiment Distribution of Articles\")\n",
    "plt.xlabel(\"Sentiment\")\n",
    "plt.ylabel(\"Number of Articles\")\n",
    "plt.show()"
   ]
  },
  {
   "cell_type": "code",
   "execution_count": 98,
   "metadata": {},
   "outputs": [
    {
     "data": {
      "text/html": [
       "<div>\n",
       "<style scoped>\n",
       "    .dataframe tbody tr th:only-of-type {\n",
       "        vertical-align: middle;\n",
       "    }\n",
       "\n",
       "    .dataframe tbody tr th {\n",
       "        vertical-align: top;\n",
       "    }\n",
       "\n",
       "    .dataframe thead th {\n",
       "        text-align: right;\n",
       "    }\n",
       "</style>\n",
       "<table border=\"1\" class=\"dataframe\">\n",
       "  <thead>\n",
       "    <tr style=\"text-align: right;\">\n",
       "      <th></th>\n",
       "      <th>title</th>\n",
       "      <th>description</th>\n",
       "      <th>publishedAt</th>\n",
       "      <th>sentiment</th>\n",
       "      <th>polarity</th>\n",
       "      <th>subjectivity</th>\n",
       "    </tr>\n",
       "  </thead>\n",
       "  <tbody>\n",
       "    <tr>\n",
       "      <th>0</th>\n",
       "      <td>proven ways to boost hotel food and drink profits</td>\n",
       "      <td>by focusing on cost optimisation reducing wast...</td>\n",
       "      <td>2024-12-06T07:14:58Z</td>\n",
       "      <td>Negative</td>\n",
       "      <td>-2.000000e-01</td>\n",
       "      <td>0.000000</td>\n",
       "    </tr>\n",
       "    <tr>\n",
       "      <th>1</th>\n",
       "      <td>how to prep cryptographic assets for the emerg...</td>\n",
       "      <td>quantum computing can render traditional encry...</td>\n",
       "      <td>2024-12-10T16:15:34Z</td>\n",
       "      <td>Positive</td>\n",
       "      <td>3.333333e-02</td>\n",
       "      <td>0.383333</td>\n",
       "    </tr>\n",
       "    <tr>\n",
       "      <th>2</th>\n",
       "      <td>travel leaders on trump 20 in three words or less</td>\n",
       "      <td>when the cameras are off and pr teams arent ho...</td>\n",
       "      <td>2024-12-10T17:01:38Z</td>\n",
       "      <td>Neutral</td>\n",
       "      <td>0.000000e+00</td>\n",
       "      <td>0.000000</td>\n",
       "    </tr>\n",
       "    <tr>\n",
       "      <th>3</th>\n",
       "      <td>sustainability to resilience adapt esg strateg...</td>\n",
       "      <td>is esg officially dead or merely in transition...</td>\n",
       "      <td>2024-12-09T19:12:52Z</td>\n",
       "      <td>Negative</td>\n",
       "      <td>-1.250000e-01</td>\n",
       "      <td>0.525000</td>\n",
       "    </tr>\n",
       "    <tr>\n",
       "      <th>4</th>\n",
       "      <td>how ai is reshaping the future of work across ...</td>\n",
       "      <td>artificial intelligence ai is no longer a visi...</td>\n",
       "      <td>2024-12-03T23:21:38Z</td>\n",
       "      <td>Negative</td>\n",
       "      <td>-1.159091e-01</td>\n",
       "      <td>0.406250</td>\n",
=======
       "      <td>Chinese chip firms say they can withstand new ...</td>\n",
       "      <td>Chinese chip companies targeted by Washington ...</td>\n",
       "      <td>By Eduardo Baptista and Heekyong Yang\\r\\nBEIJI...</td>\n",
       "    </tr>\n",
       "    <tr>\n",
       "      <th>1</th>\n",
       "      <td>Blue Yonder ransomware termites claim credit</td>\n",
       "      <td>Also: Mystery US firm compromised by Chinese h...</td>\n",
       "      <td>Infosec in brief Still smarting over that groc...</td>\n",
       "    </tr>\n",
       "    <tr>\n",
       "      <th>2</th>\n",
       "      <td>US drone maker Skydio faces battery crisis ami...</td>\n",
       "      <td>The largest US drone maker struggles with supp...</td>\n",
       "      <td>Save my User ID and Password\\r\\nSome subscribe...</td>\n",
       "    </tr>\n",
       "    <tr>\n",
       "      <th>3</th>\n",
       "      <td>South Korea shocker: US treasuries, US$, Yen, ...</td>\n",
       "      <td>AJaj Bagga predicts an increase in crypto and ...</td>\n",
       "      <td>Ajay Bagga, Market Expert, says he is expectin...</td>\n",
       "    </tr>\n",
       "    <tr>\n",
       "      <th>4</th>\n",
       "      <td>Rare Earth Ban Fuels Doubt About The Viability...</td>\n",
       "      <td>The transition to electric vehicles will happe...</td>\n",
       "      <td>TOPSHOT - People look at a BYD Seagull car by ...</td>\n",
>>>>>>> a443ddd10a0aa0baadda8ef6b098aec886823041
       "    </tr>\n",
       "    <tr>\n",
       "      <th>...</th>\n",
       "      <td>...</td>\n",
       "      <td>...</td>\n",
       "      <td>...</td>\n",
<<<<<<< HEAD
       "      <td>...</td>\n",
       "      <td>...</td>\n",
       "      <td>...</td>\n",
       "    </tr>\n",
       "    <tr>\n",
       "      <th>380</th>\n",
       "      <td>vivani medical to present at the innovation in...</td>\n",
       "      <td>vivani medical to present at the innovation in...</td>\n",
       "      <td>2024-12-04T13:32:05Z</td>\n",
       "      <td>Neutral</td>\n",
       "      <td>0.000000e+00</td>\n",
       "      <td>0.000000</td>\n",
       "    </tr>\n",
       "    <tr>\n",
       "      <th>381</th>\n",
       "      <td>c o r r e c t i o n ace green recycling</td>\n",
       "      <td>c o r r e c t i o n ace green recycling</td>\n",
       "      <td>2024-12-05T02:32:04Z</td>\n",
       "      <td>Negative</td>\n",
       "      <td>-2.000000e-01</td>\n",
       "      <td>0.300000</td>\n",
       "    </tr>\n",
       "    <tr>\n",
       "      <th>382</th>\n",
       "      <td>sea freight forwarding global strategic busine...</td>\n",
       "      <td>market growth understand the significant growt...</td>\n",
       "      <td>2024-12-04T14:36:00Z</td>\n",
       "      <td>Positive</td>\n",
       "      <td>2.083333e-01</td>\n",
       "      <td>0.608333</td>\n",
       "    </tr>\n",
       "    <tr>\n",
       "      <th>383</th>\n",
       "      <td>latest global air compressor rental market siz...</td>\n",
       "      <td>220 pages latest report according to a market ...</td>\n",
       "      <td>2024-12-10T06:30:00Z</td>\n",
       "      <td>Negative</td>\n",
       "      <td>-6.938894e-18</td>\n",
       "      <td>0.475000</td>\n",
       "    </tr>\n",
       "    <tr>\n",
       "      <th>384</th>\n",
       "      <td>aerospace fastener market thrives with increas...</td>\n",
       "      <td>the aerospace fastener market in the united st...</td>\n",
       "      <td>2024-12-05T23:30:00Z</td>\n",
       "      <td>Positive</td>\n",
       "      <td>8.333333e-02</td>\n",
       "      <td>0.416667</td>\n",
       "    </tr>\n",
       "  </tbody>\n",
       "</table>\n",
       "<p>314 rows × 6 columns</p>\n",
       "</div>"
      ],
      "text/plain": [
       "                                                 title  \\\n",
       "0    proven ways to boost hotel food and drink profits   \n",
       "1    how to prep cryptographic assets for the emerg...   \n",
       "2    travel leaders on trump 20 in three words or less   \n",
       "3    sustainability to resilience adapt esg strateg...   \n",
       "4    how ai is reshaping the future of work across ...   \n",
       "..                                                 ...   \n",
       "380  vivani medical to present at the innovation in...   \n",
       "381            c o r r e c t i o n ace green recycling   \n",
       "382  sea freight forwarding global strategic busine...   \n",
       "383  latest global air compressor rental market siz...   \n",
       "384  aerospace fastener market thrives with increas...   \n",
       "\n",
       "                                           description           publishedAt  \\\n",
       "0    by focusing on cost optimisation reducing wast...  2024-12-06T07:14:58Z   \n",
       "1    quantum computing can render traditional encry...  2024-12-10T16:15:34Z   \n",
       "2    when the cameras are off and pr teams arent ho...  2024-12-10T17:01:38Z   \n",
       "3    is esg officially dead or merely in transition...  2024-12-09T19:12:52Z   \n",
       "4    artificial intelligence ai is no longer a visi...  2024-12-03T23:21:38Z   \n",
       "..                                                 ...                   ...   \n",
       "380  vivani medical to present at the innovation in...  2024-12-04T13:32:05Z   \n",
       "381            c o r r e c t i o n ace green recycling  2024-12-05T02:32:04Z   \n",
       "382  market growth understand the significant growt...  2024-12-04T14:36:00Z   \n",
       "383  220 pages latest report according to a market ...  2024-12-10T06:30:00Z   \n",
       "384  the aerospace fastener market in the united st...  2024-12-05T23:30:00Z   \n",
       "\n",
       "    sentiment      polarity  subjectivity  \n",
       "0    Negative -2.000000e-01      0.000000  \n",
       "1    Positive  3.333333e-02      0.383333  \n",
       "2     Neutral  0.000000e+00      0.000000  \n",
       "3    Negative -1.250000e-01      0.525000  \n",
       "4    Negative -1.159091e-01      0.406250  \n",
       "..        ...           ...           ...  \n",
       "380   Neutral  0.000000e+00      0.000000  \n",
       "381  Negative -2.000000e-01      0.300000  \n",
       "382  Positive  2.083333e-01      0.608333  \n",
       "383  Negative -6.938894e-18      0.475000  \n",
       "384  Positive  8.333333e-02      0.416667  \n",
       "\n",
       "[314 rows x 6 columns]"
      ]
     },
     "execution_count": 98,
=======
       "    </tr>\n",
       "    <tr>\n",
       "      <th>95</th>\n",
       "      <td>Omnicell Announces OmniSphere</td>\n",
       "      <td>Omnicell Announces OmniSphere</td>\n",
       "      <td>Next-generation, cloud native, software workfl...</td>\n",
       "    </tr>\n",
       "    <tr>\n",
       "      <th>96</th>\n",
       "      <td>Byrna Sets New One-Day Record on Cyber Monday ...</td>\n",
       "      <td>Sales on Both Black Friday and Cyber Monday Su...</td>\n",
       "      <td>ANDOVER, Mass., Dec. 04, 2024 (GLOBE NEWSWIRE)...</td>\n",
       "    </tr>\n",
       "    <tr>\n",
       "      <th>97</th>\n",
       "      <td>Byrna Sets New One-Day Record on Cyber Monday ...</td>\n",
       "      <td>Byrna Sets New One-Day Record on Cyber Monday ...</td>\n",
       "      <td>Sales on Both Black Friday and Cyber Monday Su...</td>\n",
       "    </tr>\n",
       "    <tr>\n",
       "      <th>98</th>\n",
       "      <td>The Coca-Cola Company Evolves Voluntary Enviro...</td>\n",
       "      <td>The Coca-Cola Company Evolves Voluntary Enviro...</td>\n",
       "      <td>Company to Continue to Focus on Improving Wate...</td>\n",
       "    </tr>\n",
       "    <tr>\n",
       "      <th>99</th>\n",
       "      <td>Donald Trump's 100% BRICS Tariff threats: How ...</td>\n",
       "      <td>Donald Trump’s return to the White House has p...</td>\n",
       "      <td>As Donald Trump prepares for his second term a...</td>\n",
       "    </tr>\n",
       "  </tbody>\n",
       "</table>\n",
       "<p>100 rows × 3 columns</p>\n",
       "</div>"
      ],
      "text/plain": [
       "                                                title  \\\n",
       "0   Chinese chip firms say they can withstand new ...   \n",
       "1        Blue Yonder ransomware termites claim credit   \n",
       "2   US drone maker Skydio faces battery crisis ami...   \n",
       "3   South Korea shocker: US treasuries, US$, Yen, ...   \n",
       "4   Rare Earth Ban Fuels Doubt About The Viability...   \n",
       "..                                                ...   \n",
       "95                      Omnicell Announces OmniSphere   \n",
       "96  Byrna Sets New One-Day Record on Cyber Monday ...   \n",
       "97  Byrna Sets New One-Day Record on Cyber Monday ...   \n",
       "98  The Coca-Cola Company Evolves Voluntary Enviro...   \n",
       "99  Donald Trump's 100% BRICS Tariff threats: How ...   \n",
       "\n",
       "                                          description  \\\n",
       "0   Chinese chip companies targeted by Washington ...   \n",
       "1   Also: Mystery US firm compromised by Chinese h...   \n",
       "2   The largest US drone maker struggles with supp...   \n",
       "3   AJaj Bagga predicts an increase in crypto and ...   \n",
       "4   The transition to electric vehicles will happe...   \n",
       "..                                                ...   \n",
       "95                      Omnicell Announces OmniSphere   \n",
       "96  Sales on Both Black Friday and Cyber Monday Su...   \n",
       "97  Byrna Sets New One-Day Record on Cyber Monday ...   \n",
       "98  The Coca-Cola Company Evolves Voluntary Enviro...   \n",
       "99  Donald Trump’s return to the White House has p...   \n",
       "\n",
       "                                              content  \n",
       "0   By Eduardo Baptista and Heekyong Yang\\r\\nBEIJI...  \n",
       "1   Infosec in brief Still smarting over that groc...  \n",
       "2   Save my User ID and Password\\r\\nSome subscribe...  \n",
       "3   Ajay Bagga, Market Expert, says he is expectin...  \n",
       "4   TOPSHOT - People look at a BYD Seagull car by ...  \n",
       "..                                                ...  \n",
       "95  Next-generation, cloud native, software workfl...  \n",
       "96  ANDOVER, Mass., Dec. 04, 2024 (GLOBE NEWSWIRE)...  \n",
       "97  Sales on Both Black Friday and Cyber Monday Su...  \n",
       "98  Company to Continue to Focus on Improving Wate...  \n",
       "99  As Donald Trump prepares for his second term a...  \n",
       "\n",
       "[100 rows x 3 columns]"
      ]
     },
     "execution_count": 2,
>>>>>>> a443ddd10a0aa0baadda8ef6b098aec886823041
     "metadata": {},
     "output_type": "execute_result"
    }
   ],
   "source": [
    "df"
   ]
  },
  {
   "cell_type": "code",
<<<<<<< HEAD
   "execution_count": 103,
=======
   "execution_count": 3,
   "metadata": {},
   "outputs": [],
   "source": [
    "import pandas as pd\n",
    "df = pd.read_csv(\"supply_chain_sample_data.csv\")"
   ]
  },
  {
   "cell_type": "code",
   "execution_count": 4,
>>>>>>> a443ddd10a0aa0baadda8ef6b098aec886823041
   "metadata": {},
   "outputs": [
    {
     "data": {
<<<<<<< HEAD
      "image/png": "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",
      "text/plain": [
       "<Figure size 640x480 with 1 Axes>"
      ]
     },
     "metadata": {},
     "output_type": "display_data"
    }
   ],
   "source": [
    "# Ensure 'publishedAt' or similar column is in datetime format\n",
    "df['publishedAt'] = pd.to_datetime(df['publishedAt'])\n",
    "\n",
    "# Group by date and calculate average polarity\n",
    "trend = df.groupby(df['publishedAt'].dt.date)['polarity'].mean()\n",
    "\n",
    "# Plot the trend\n",
    "trend.plot(kind='line', marker='o', color='orange')\n",
    "plt.title(\"Sentiment Polarity Trend Over Time\")\n",
    "plt.xlabel(\"Date\")\n",
    "plt.ylabel(\"Average Polarity\")\n",
    "plt.xticks(rotation=45)\n",
    "plt.show()\n"
   ]
=======
      "text/plain": [
       "Date                0\n",
       "Region              0\n",
       "Country             0\n",
       "Supplier            0\n",
       "Item                0\n",
       "Inventory Level     0\n",
       "Lead Time (days)    0\n",
       "Transport Status    0\n",
       "News Sentiment      0\n",
       "Risk Factor         0\n",
       "dtype: int64"
      ]
     },
     "execution_count": 4,
     "metadata": {},
     "output_type": "execute_result"
    }
   ],
   "source": [
    "df.isna().sum()"
   ]
  },
  {
   "cell_type": "code",
   "execution_count": null,
   "metadata": {},
   "outputs": [],
   "source": []
  },
  {
   "cell_type": "code",
   "execution_count": null,
   "metadata": {},
   "outputs": [],
   "source": []
  },
  {
   "cell_type": "code",
   "execution_count": null,
   "metadata": {},
   "outputs": [],
   "source": []
  },
  {
   "cell_type": "code",
   "execution_count": null,
   "metadata": {},
   "outputs": [],
   "source": []
>>>>>>> a443ddd10a0aa0baadda8ef6b098aec886823041
  }
 ],
 "metadata": {
  "kernelspec": {
   "display_name": "newenv",
   "language": "python",
   "name": "python3"
  },
  "language_info": {
   "codemirror_mode": {
    "name": "ipython",
    "version": 3
   },
   "file_extension": ".py",
   "mimetype": "text/x-python",
   "name": "python",
   "nbconvert_exporter": "python",
   "pygments_lexer": "ipython3",
   "version": "3.9.19"
  }
 },
 "nbformat": 4,
 "nbformat_minor": 2
}
